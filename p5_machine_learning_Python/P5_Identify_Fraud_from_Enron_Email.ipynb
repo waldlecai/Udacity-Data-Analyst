{
 "cells": [
  {
   "cell_type": "markdown",
   "metadata": {},
   "source": [
    "# Identify Fraud From Enron Email  "
   ]
  },
  {
   "cell_type": "markdown",
   "metadata": {},
   "source": [
    "## 1. Project Overview  "
   ]
  },
  {
   "cell_type": "markdown",
   "metadata": {},
   "source": [
    "Enron Corporation was once one of the world’s major energy and trading companies with 20,000 staff before its bankruptcy in 2002. Accounting fraud perpetrated by top executives resulted in one of the largest bankruptcies in U.S. History.  \n",
    "\n",
    "This project is to apply machine learning algorithms to identify Enron Employees who may have committed fraud based on the public Enron financial and email dataset.  "
   ]
  },
  {
   "cell_type": "markdown",
   "metadata": {},
   "source": [
    "## 2. Data Analysis  "
   ]
  },
  {
   "cell_type": "code",
   "execution_count": 6,
   "metadata": {
    "collapsed": false
   },
   "outputs": [
    {
     "data": {
      "text/html": [
       "<script>jQuery(function() {if (jQuery(\"body.notebook_app\").length == 0) { jQuery(\".input_area\").toggle(); jQuery(\".prompt\").toggle();}});</script>"
      ]
     },
     "metadata": {},
     "output_type": "display_data"
    },
    {
     "data": {
      "text/html": [
       "<button onclick=\"jQuery('.input_area').toggle(); jQuery('.prompt').toggle();\">Toggle code</button>"
      ]
     },
     "metadata": {},
     "output_type": "display_data"
    }
   ],
   "source": [
    "import IPython.core.display as di\n",
    "\n",
    "# This line will hide code by default when the notebook is exported as HTML\n",
    "di.display_html('<script>jQuery(function() {if (jQuery(\"body.notebook_app\").length == 0) { jQuery(\".input_area\").toggle(); jQuery(\".prompt\").toggle();}});</script>', raw=True)\n",
    "\n",
    "# This line will add a button to toggle visibility of code blocks, for use with the HTML export version\n",
    "di.display_html('''<button onclick=\"jQuery('.input_area').toggle(); jQuery('.prompt').toggle();\">Toggle code</button>''', raw=True)"
   ]
  },
  {
   "cell_type": "code",
   "execution_count": 7,
   "metadata": {
    "collapsed": false
   },
   "outputs": [],
   "source": [
    "import sys\n",
    "import pickle\n",
    "import math\n",
    "import pprint\n",
    "from collections import defaultdict\n",
    "import pandas as pd\n",
    "import matplotlib.pyplot as plt\n",
    "import seaborn as sns\n",
    "import warnings\n",
    "%matplotlib inline\n",
    "sns.set(style=\"white\", color_codes=True)\n",
    "\n",
    "sys.path.append(\"../tools/\")\n",
    "from feature_format import featureFormat\n",
    "\n",
    "data_dict = pickle.load(open(\"./final_project_dataset.pkl\", \"r\"))"
   ]
  },
  {
   "cell_type": "markdown",
   "metadata": {},
   "source": [
    "### 2.1 Dataset Overview"
   ]
  },
  {
   "cell_type": "code",
   "execution_count": 17,
   "metadata": {
    "collapsed": false
   },
   "outputs": [
    {
     "name": "stdout",
     "output_type": "stream",
     "text": [
      "Total data point: 146\n"
     ]
    }
   ],
   "source": [
    "print(\"Total data point: {}\".format(len(data_dict)))"
   ]
  },
  {
   "cell_type": "code",
   "execution_count": 4,
   "metadata": {
    "collapsed": false
   },
   "outputs": [
    {
     "name": "stdout",
     "output_type": "stream",
     "text": [
      "Total feature number: 21\n"
     ]
    }
   ],
   "source": [
    "print(\"Total feature number: {}\".format(len(data_dict[\"LAY KENNETH L\"])))"
   ]
  },
  {
   "cell_type": "code",
   "execution_count": 5,
   "metadata": {
    "collapsed": false
   },
   "outputs": [
    {
     "name": "stdout",
     "output_type": "stream",
     "text": [
      "Total number of POI in the dataset: 18\n"
     ]
    }
   ],
   "source": [
    "num = 0\n",
    "for key, record in data_dict.iteritems():\n",
    "    if record[\"poi\"]:\n",
    "        num += 1\n",
    "print(\"Total number of POI in the dataset: {}\".format(num))"
   ]
  },
  {
   "cell_type": "code",
   "execution_count": 6,
   "metadata": {
    "collapsed": false
   },
   "outputs": [
    {
     "name": "stdout",
     "output_type": "stream",
     "text": [
      "Complete feature list:\n",
      "salary;  to_messages;  deferral_payments;  total_payments;  exercised_stock_options;  bonus;  restricted_stock;  shared_receipt_with_poi;  restricted_stock_deferred;  total_stock_value;  expenses;  loan_advances;  from_messages;  other;  from_this_person_to_poi;  poi;  director_fees;  deferred_income;  long_term_incentive;  email_address;  from_poi_to_this_person; \n"
     ]
    }
   ],
   "source": [
    "print(\"Complete feature list:\")\n",
    "feature_list = []\n",
    "for key in data_dict[\"LAY KENNETH L\"].keys():\n",
    "    feature_list.append(key)\n",
    "    print(key + \"; \"), "
   ]
  },
  {
   "cell_type": "markdown",
   "metadata": {},
   "source": [
    "### 2.2 Missing Values"
   ]
  },
  {
   "cell_type": "code",
   "execution_count": 7,
   "metadata": {
    "collapsed": false
   },
   "outputs": [
    {
     "name": "stdout",
     "output_type": "stream",
     "text": [
      "Total NaN of salary: 51\n",
      "Total NaN of to_messages: 60\n",
      "Total NaN of deferral_payments: 107\n",
      "Total NaN of total_payments: 21\n",
      "Total NaN of long_term_incentive: 80\n",
      "Total NaN of loan_advances: 142\n",
      "Total NaN of bonus: 64\n",
      "Total NaN of restricted_stock: 36\n",
      "Total NaN of restricted_stock_deferred: 128\n",
      "Total NaN of total_stock_value: 20\n",
      "Total NaN of shared_receipt_with_poi: 60\n",
      "Total NaN of from_poi_to_this_person: 60\n",
      "Total NaN of exercised_stock_options: 44\n",
      "Total NaN of from_messages: 60\n",
      "Total NaN of other: 53\n",
      "Total NaN of from_this_person_to_poi: 60\n",
      "Total NaN of deferred_income: 97\n",
      "Total NaN of expenses: 51\n",
      "Total NaN of email_address: 35\n",
      "Total NaN of director_fees: 129\n"
     ]
    }
   ],
   "source": [
    "### Total NaN of each feature\n",
    "count_dict = defaultdict(int)\n",
    "for key, item in data_dict.iteritems():\n",
    "    for feature in feature_list:\n",
    "        if item[feature] == \"NaN\":\n",
    "            count_dict[feature] += 1\n",
    "\n",
    "for key, value in count_dict.iteritems():\n",
    "    print(\"Total NaN of {}: {}\".format(key, value))"
   ]
  },
  {
   "cell_type": "markdown",
   "metadata": {},
   "source": [
    "Features with more than 50% missing value(NaN) will be excluded for the project. They are deferral_payments, long_term_incentive, loan_advances, restricted_stock_deferred, deferred_income, director_fees."
   ]
  },
  {
   "cell_type": "code",
   "execution_count": 18,
   "metadata": {
    "collapsed": false
   },
   "outputs": [
    {
     "name": "stdout",
     "output_type": "stream",
     "text": [
      "Total number of POI having NaN for their total_payments: 0\n"
     ]
    }
   ],
   "source": [
    "# Number of POI having NaN for their total payments\n",
    "num = 0\n",
    "for key, value in data_dict.iteritems():\n",
    "    if (value[\"total_payments\"] == \"NaN\") and (value[\"poi\"] == True):\n",
    "        num += 1\n",
    "print(\"Total number of POI having NaN for their total_payments: {}\".format(num))"
   ]
  },
  {
   "cell_type": "markdown",
   "metadata": {},
   "source": [
    "Since 'total_payments' of all POIs have actual values, machine learning algorithms may associate data point with NaN in 'total_payments' with non-POI, which is something we need to watch out later on."
   ]
  },
  {
   "cell_type": "markdown",
   "metadata": {},
   "source": [
    "feature_format.py provided by course instrutor is able to eliminate data points with all features being NaN. So it's not necessary to preprocess those 'empty' data points."
   ]
  },
  {
   "cell_type": "markdown",
   "metadata": {},
   "source": [
    "### 2.3 Outliers"
   ]
  },
  {
   "cell_type": "code",
   "execution_count": 8,
   "metadata": {
    "collapsed": false
   },
   "outputs": [
    {
     "name": "stdout",
     "output_type": "stream",
     "text": [
      "Those salary over 1M:\n",
      "LAY KENNETH L:1072321\n",
      "SKILLING JEFFREY K:1111258\n",
      "TOTAL:26704229\n",
      "FREVERT MARK A:1060932\n"
     ]
    }
   ],
   "source": [
    "print(\"Those salary over 1M:\")\n",
    "for key, record in data_dict.iteritems():\n",
    "    if record[\"salary\"] !=\"NaN\" and record[\"salary\"] > 1000000:\n",
    "        print(\"{}:{}\".format(key, record['salary']))"
   ]
  },
  {
   "cell_type": "markdown",
   "metadata": {},
   "source": [
    "TOTAL is a spreadsheet quirk outlier that should be removed."
   ]
  },
  {
   "cell_type": "markdown",
   "metadata": {},
   "source": [
    "### 2.3 Scatter Plots"
   ]
  },
  {
   "cell_type": "code",
   "execution_count": 35,
   "metadata": {
    "collapsed": false
   },
   "outputs": [],
   "source": [
    "# remove the known outlier-TOTAL\n",
    "data_dict.pop(\"TOTAL\", 0) # this was found in Intro to ML course\n",
    "\n",
    "# turn data dict into numpy array and pandas dataframe\n",
    "features_list = ['poi','salary', 'total_payments', 'total_stock_value', 'bonus', \\\n",
    "                 'exercised_stock_options', 'expenses', 'from_poi_to_this_person', \\\n",
    "                 'from_this_person_to_poi', 'shared_receipt_with_poi']\n",
    "data = featureFormat(data_dict, features_list, remove_all_zeroes=False, sort_keys = True)\n",
    "df = pd.DataFrame(data, columns=features_list)"
   ]
  },
  {
   "cell_type": "code",
   "execution_count": 33,
   "metadata": {
    "collapsed": false
   },
   "outputs": [
    {
     "data": {
      "text/plain": [
       "<seaborn.axisgrid.FacetGrid at 0x10d697850>"
      ]
     },
     "execution_count": 33,
     "metadata": {},
     "output_type": "execute_result"
    },
    {
     "data": {
      "image/png": "[encoded data removed]",
      "text/plain": [
       "<matplotlib.figure.Figure at 0x112c40550>"
      ]
     },
     "metadata": {},
     "output_type": "display_data"
    }
   ],
   "source": [
    "sns.FacetGrid(df, hue=\"poi\", size=5) \\\n",
    "   .map(plt.scatter, \"salary\", \"total_payments\") \\\n",
    "   .add_legend()"
   ]
  },
  {
   "cell_type": "code",
   "execution_count": 36,
   "metadata": {
    "collapsed": false
   },
   "outputs": [
    {
     "data": {
      "text/plain": [
       "<seaborn.axisgrid.FacetGrid at 0x112c4d3d0>"
      ]
     },
     "execution_count": 36,
     "metadata": {},
     "output_type": "execute_result"
    },
    {
     "data": {
      "image/png": "[encoded data removed]",
      "text/plain": [
       "<matplotlib.figure.Figure at 0x10ffb2590>"
      ]
     },
     "metadata": {},
     "output_type": "display_data"
    }
   ],
   "source": [
    "sns.FacetGrid(df, hue=\"poi\", size=5) \\\n",
    "   .map(plt.scatter, \"salary\", \"total_stock_value\") \\\n",
    "   .add_legend()"
   ]
  },
  {
   "cell_type": "code",
   "execution_count": 42,
   "metadata": {
    "collapsed": false
   },
   "outputs": [
    {
     "data": {
      "text/plain": [
       "<seaborn.axisgrid.FacetGrid at 0x112c40710>"
      ]
     },
     "execution_count": 42,
     "metadata": {},
     "output_type": "execute_result"
    },
    {
     "data": {
      "image/png": "[encoded data removed]",
      "text/plain": [
       "<matplotlib.figure.Figure at 0x112dda250>"
      ]
     },
     "metadata": {},
     "output_type": "display_data"
    }
   ],
   "source": [
    "sns.FacetGrid(df, hue=\"poi\", size=5) \\\n",
    "   .map(plt.scatter, \"salary\", \"bonus\") \\\n",
    "   .add_legend()"
   ]
  },
  {
   "cell_type": "code",
   "execution_count": 43,
   "metadata": {
    "collapsed": false
   },
   "outputs": [
    {
     "data": {
      "text/plain": [
       "<seaborn.axisgrid.FacetGrid at 0x113255750>"
      ]
     },
     "execution_count": 43,
     "metadata": {},
     "output_type": "execute_result"
    },
    {
     "data": {
      "image/png": "[encoded data removed]",
      "text/plain": [
       "<matplotlib.figure.Figure at 0x113214110>"
      ]
     },
     "metadata": {},
     "output_type": "display_data"
    }
   ],
   "source": [
    "sns.FacetGrid(df, hue=\"poi\", size=5) \\\n",
    "   .map(plt.scatter, \"salary\", \"exercised_stock_options\") \\\n",
    "   .add_legend()"
   ]
  },
  {
   "cell_type": "code",
   "execution_count": 44,
   "metadata": {
    "collapsed": false
   },
   "outputs": [
    {
     "data": {
      "text/plain": [
       "<seaborn.axisgrid.FacetGrid at 0x1134024d0>"
      ]
     },
     "execution_count": 44,
     "metadata": {},
     "output_type": "execute_result"
    },
    {
     "data": {
      "image/png": "[encoded data removed]",
      "text/plain": [
       "<matplotlib.figure.Figure at 0x112c2db90>"
      ]
     },
     "metadata": {},
     "output_type": "display_data"
    }
   ],
   "source": [
    "sns.FacetGrid(df, hue=\"poi\", size=5) \\\n",
    "   .map(plt.scatter, \"salary\", \"expenses\") \\\n",
    "   .add_legend()"
   ]
  },
  {
   "cell_type": "code",
   "execution_count": 47,
   "metadata": {
    "collapsed": false
   },
   "outputs": [
    {
     "data": {
      "text/plain": [
       "<seaborn.axisgrid.FacetGrid at 0x1139400d0>"
      ]
     },
     "execution_count": 47,
     "metadata": {},
     "output_type": "execute_result"
    },
    {
     "data": {
      "image/png": "[encoded data removed]",
      "text/plain": [
       "<matplotlib.figure.Figure at 0x113824c10>"
      ]
     },
     "metadata": {},
     "output_type": "display_data"
    }
   ],
   "source": [
    "sns.FacetGrid(df, hue=\"poi\", size=5) \\\n",
    "   .map(plt.scatter, \"salary\", \"shared_receipt_with_poi\") \\\n",
    "   .add_legend()"
   ]
  },
  {
   "cell_type": "code",
   "execution_count": 45,
   "metadata": {
    "collapsed": false
   },
   "outputs": [
    {
     "data": {
      "text/plain": [
       "<seaborn.axisgrid.FacetGrid at 0x10ffcebd0>"
      ]
     },
     "execution_count": 45,
     "metadata": {},
     "output_type": "execute_result"
    },
    {
     "data": {
      "image/png": "[encoded data removed]",
      "text/plain": [
       "<matplotlib.figure.Figure at 0x10ffce810>"
      ]
     },
     "metadata": {},
     "output_type": "display_data"
    }
   ],
   "source": [
    "sns.FacetGrid(df, hue=\"poi\", size=5) \\\n",
    "   .map(plt.scatter, \"from_this_person_to_poi\", \"from_poi_to_this_person\") \\\n",
    "   .add_legend()"
   ]
  },
  {
   "cell_type": "markdown",
   "metadata": {},
   "source": [
    "From above plots, there don't seem to be outliers with invalid values. So no further data processing is performed."
   ]
  },
  {
   "cell_type": "markdown",
   "metadata": {},
   "source": [
    "## 3. Feature Selection & Engineering"
   ]
  },
  {
   "cell_type": "markdown",
   "metadata": {},
   "source": [
    "### 3.1 Feature Selection  \n",
    "Manual feature selection approach is adopted. The high levle process is as following:\n",
    "* Decision Tree classifier is used for feature selection  \n",
    "* Start with small number of features  \n",
    "* Add feature gradually from financial and email; discard it if performance metrics (precision and recall) dropped significantly  \n",
    "\n",
    "Following are the exact steps of feature selection with evaluation metrics documented.\n",
    "\n",
    "1.features_list = ['poi','salary']  \n",
    "Accuracy: 0.70170\tPrecision: 0.25114\tRecall: 0.24800  \n",
    "\n",
    "2.features_list = ['poi','salary', 'from_this_person_to_poi']  \n",
    "Accuracy: 0.74564\tPrecision: 0.26990\tRecall: 0.23400  \n",
    "\n",
    "3.features_list = ['poi','salary', 'bonus', 'from_this_person_to_poi']  \n",
    "Accuracy: 0.69691\tPrecision: 0.15689\tRecall: 0.15250  \n",
    "\n",
    "4.features_list = ['poi', 'salary', 'from_poi_to_this_person', 'from_this_person_to_poi']  \n",
    "Accuracy: 0.73118\tPrecision: 0.22735\tRecall: 0.19950  \n",
    "\n",
    "5.features_list = ['poi', 'salary', 'from_this_person_to_poi', 'from_poi_to_this_person', 'shared_receipt_with_poi']  \n",
    "Accuracy: 0.76892\tPrecision: 0.25919\tRecall: 0.20800  \n",
    "\n",
    "6.features_list = ['poi', 'salary', 'total_payments', 'from_this_person_to_poi', 'from_poi_to_this_person', 'shared_receipt_with_poi']  \n",
    "Accuracy: 0.76421\tPrecision: 0.18407\tRecall: 0.18950  \n",
    "\n",
    "7.features_list = ['poi', 'salary', 'exercised_stock_options', 'from_this_person_to_poi', 'from_poi_to_this_person', 'shared_receipt_with_poi']  \n",
    "Accuracy: 0.81077\tPrecision: 0.37122\tRecall: 0.33150  \n",
    "\n",
    "8.features_list = ['poi', 'salary', 'exercised_stock_options', 'expenses', 'from_this_person_to_poi', 'from_poi_to_this_person', 'shared_receipt_with_poi']  \n",
    "Accuracy: 0.83593\tPrecision: 0.42012\tRecall: 0.39050  \n",
    "\n",
    "9.features_list = ['poi', 'salary', 'exercised_stock_options', 'total_stock_value', 'expenses', 'from_this_person_to_poi', 'from_poi_to_this_person', 'shared_receipt_with_poi']  \n",
    "Accuracy: 0.82729\tPrecision: 0.39115\tRecall: 0.37550  \n",
    "\n",
    "Best features list derived from original dataset is No.8 listed above. This features list is selected in following section.  \n",
    "\n",
    "### 3.2 Add New Feature\n",
    "New feature 'poi_ratio', ratio between number of mails involving POIis added and total number of mails, was added. However this new feature doesn't improve metrics (in fact slightly degraded):  \n",
    "Accuracy: 0.81964\tPrecision: 0.36518\tRecall: 0.35550   \n",
    "\n",
    "### 3.3 Feature Scaling\n",
    "All features are scaled using sklearn.preprocessing.scale(features). This is because features with different scales have impact on some algorithms (i.e GaussianNB). By applying feature re-scaling, we can compare features at different scales(originally) so as to avoid dominant features."
   ]
  },
  {
   "cell_type": "markdown",
   "metadata": {},
   "source": [
    "## 4. Picking and Tuning Algorithms"
   ]
  },
  {
   "cell_type": "markdown",
   "metadata": {},
   "source": [
    "Decision Tree, GaussianNB, Logistic Regression were tried out. Based on the performace metrices (see below section), Decision Tree Classifer gives the best result. Hence Decision Tree Classifier was selected for final tuning.  \n",
    "\n",
    "DecisionTreeClassifier was tuned using GridSearchCV with parameters - {'criterion':('gini', 'entropy'),'splitter':('best','random')}. "
   ]
  },
  {
   "cell_type": "markdown",
   "metadata": {},
   "source": [
    "## 5. Validating and Evaluation"
   ]
  },
  {
   "cell_type": "markdown",
   "metadata": {
    "collapsed": true
   },
   "source": [
    "### 5.1 Validation and its importances  \n",
    "Validation is the process of randomly splitting the data into training and testing data. Then the model can be trained on the training data, and be validated on the testing data. The training and testing random data split is 70% and 30% respectively for the project. The importances of applying training/testing data split are:  \n",
    "* provides estimate of algorithm performance on an indepedent dataset\n",
    "* serves as check on overfitting\n",
    "\n",
    "### 5.2 Evaluation Metrics  \n",
    "Given that the allocation of POI/non-POI is skewed (very unbalanced). The evaluation for this project is mainly based on Precision and Recall metrics:  \n",
    "\n",
    "* Precision = True Positive/(True Positive + False Positive). It's the proportion of correct prediction of all the people who are predicted to be POI.  \n",
    "* Recall = True Positive/(True Positive + False Positive). It's the proportion of correct prediciton of all the people who are actually POI.\n",
    "\n",
    "Performance metrices of all three classifiers tried out are as below:   \n",
    "* Decision Tree - Accuracy: 0.81786\tPrecision: 0.35751\tRecall: 0.34500  \n",
    "* GaussianNB - Accuracy: 0.83779\tPrecision: 0.38585\tRecall: 0.22900  \n",
    "* Logistic Regression - Accuracy: 0.65050\tPrecision: 0.05119\tRecall: 0.08250\n",
    "\n",
    "## 6. References  \n",
    "1. SKLearn documentation: http://scikit-learn.org/stable/documentation.html"
   ]
  }
 ],
 "metadata": {
  "kernelspec": {
   "display_name": "Python 2",
   "language": "python",
   "name": "python2"
  },
  "language_info": {
   "codemirror_mode": {
    "name": "ipython",
    "version": 2
   },
   "file_extension": ".py",
   "mimetype": "text/x-python",
   "name": "python",
   "nbconvert_exporter": "python",
   "pygments_lexer": "ipython2",
   "version": "2.7.11"
  }
 },
 "nbformat": 4,
 "nbformat_minor": 0
}
